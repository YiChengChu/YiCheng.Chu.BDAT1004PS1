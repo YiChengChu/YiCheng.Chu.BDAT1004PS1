{
 "cells": [
  {
   "cell_type": "markdown",
   "id": "a278ede7",
   "metadata": {},
   "source": [
    "# Question 1"
   ]
  },
  {
   "cell_type": "code",
   "execution_count": 39,
   "id": "d0fc4784",
   "metadata": {},
   "outputs": [
    {
     "name": "stdout",
     "output_type": "stream",
     "text": [
      "<class 'int'>\n",
      "<class 'float'>\n",
      "<class 'bool'>\n",
      "<class 'str'>\n",
      "<class 'int'>\n",
      "<class 'str'>\n",
      "<class 'str'>\n",
      "<class 'float'>\n",
      "<class 'int'>\n",
      "<class 'set'>\n",
      "<class 'bool'>\n",
      "<class 'float'>\n"
     ]
    }
   ],
   "source": [
    "# Integer\n",
    "number = 5\n",
    "print(type(number))\n",
    "\n",
    "# Float\n",
    "floating_number = 5.0\n",
    "print(type(floating_number)) \n",
    "\n",
    "# Bool\n",
    "comparison_result = 5 > 1\n",
    "print(type(comparison_result))\n",
    "\n",
    "# String\n",
    "string_value = '5'\n",
    "print(type(string_value))  \n",
    "\n",
    "# Integer \n",
    "multiplication_result = 5 * 2\n",
    "print(type(multiplication_result))  \n",
    "\n",
    "# String \n",
    "string_repetition = '5' * 2\n",
    "print(type(string_repetition))\n",
    "\n",
    "# String\n",
    "string_concatenation = '5' + '2'\n",
    "print(type(string_concatenation))\n",
    "\n",
    "# Float \n",
    "division_result = 5 / 2\n",
    "print(type(division_result))\n",
    "\n",
    "# Integer \n",
    "remainder_result = 5 % 2\n",
    "print(type(remainder_result))\n",
    "# Set\n",
    "set_value = {5, 2, 1}\n",
    "print(type(set_value)) \n",
    "\n",
    "# Boolean \n",
    "equality_check = 5 == 3\n",
    "print(type(equality_check)) \n",
    "\n",
    "# Float\n",
    "pi_approximation = 3.14159\n",
    "print(type(pi_approximation))\n",
    "\n",
    "\n"
   ]
  },
  {
   "cell_type": "markdown",
   "id": "67c6db36",
   "metadata": {},
   "source": [
    "# Question2"
   ]
  },
  {
   "cell_type": "code",
   "execution_count": 6,
   "id": "b7cc8b8b",
   "metadata": {},
   "outputs": [
    {
     "name": "stdout",
     "output_type": "stream",
     "text": [
      "a. 34\n",
      "b. True\n",
      "c. Supercalifragilisticexpialidocious\n",
      "d. First: Bartok\n",
      "d. Last: Buxtehude\n"
     ]
    }
   ],
   "source": [
    "# a. Count the number of letters in 'Supercalifragilisticexpialidocious'\n",
    "word_a = 'Supercalifragilisticexpialidocious'\n",
    "letters_count = len(word_a)\n",
    "print(\"a.\", letters_count)\n",
    "\n",
    "# b. Check if 'Supercalifragilisticexpialidocious' contains 'ice' as a substring\n",
    "contains_ice = 'ice' in word_a\n",
    "print(\"b.\", contains_ice)\n",
    "\n",
    "# c. Determine the longest word among the given words\n",
    "words_c = ['Supercalifragilisticexpialidocious', 'Honorificabilitudinitatibus', 'Bababadalgharaghtakamminarronnkonn']\n",
    "longest_word = max(words_c, key=len)\n",
    "print(\"c.\", longest_word)\n",
    "\n",
    "# d. Find which composer comes first and last in the dictionary\n",
    "composers = ['Berlioz', 'Borodin', 'Brian', 'Bartok', 'Bellini', 'Buxtehude', 'Bernstein']\n",
    "first_composer = min(composers)\n",
    "last_composer = max(composers)\n",
    "print(\"d. First:\", first_composer)\n",
    "print(\"d. Last:\", last_composer)\n"
   ]
  },
  {
   "cell_type": "markdown",
   "id": "e6c58e0a",
   "metadata": {},
   "source": [
    "# Question3"
   ]
  },
  {
   "cell_type": "code",
   "execution_count": 9,
   "id": "89416be7",
   "metadata": {},
   "outputs": [
    {
     "name": "stdout",
     "output_type": "stream",
     "text": [
      "answer. 1.7320508075688772\n"
     ]
    }
   ],
   "source": [
    "# implement function triangleArea(a,b,c)\n",
    "\n",
    "import math\n",
    "\n",
    "def triangleArea(a, b, c): \n",
    "    s = (a + b + c)/2\n",
    "    return math.sqrt(s * (s - a) * (s - b) * (s - c))\n",
    "\n",
    "print(\"answer.\", triangleArea(2,2,2))"
   ]
  },
  {
   "cell_type": "markdown",
   "id": "f51806b1",
   "metadata": {},
   "source": [
    "# Question4"
   ]
  },
  {
   "cell_type": "code",
   "execution_count": 10,
   "id": "a4231183",
   "metadata": {},
   "outputs": [
    {
     "name": "stdout",
     "output_type": "stream",
     "text": [
      "Even elements. [42, 56, 32]\n",
      "Odd elements are. [25, 47]\n"
     ]
    }
   ],
   "source": [
    "# Input elements\n",
    "elements = [25, 47, 42, 56, 32]\n",
    "\n",
    "# Initialize arrays\n",
    "even_elements = []\n",
    "odd_elements = []\n",
    "\n",
    "# Loop through the elements and separate to even elements and odd elements\n",
    "for element in elements:\n",
    "    if element % 2 == 0:\n",
    "        even_elements.append(element)\n",
    "    else:\n",
    "        odd_elements.append(element)\n",
    "\n",
    "# Print even and odd elements separately\n",
    "print(\"Even elements.\", even_elements)\n",
    "print(\"Odd elements are.\", odd_elements)\n"
   ]
  },
  {
   "cell_type": "markdown",
   "id": "a846d6ba",
   "metadata": {},
   "source": [
    "# Question5"
   ]
  },
  {
   "cell_type": "code",
   "execution_count": 13,
   "id": "281897aa",
   "metadata": {},
   "outputs": [
    {
     "name": "stdout",
     "output_type": "stream",
     "text": [
      "a. Testing 'inside' function:\n",
      ">>> inside(1,1,0,0,2,3)\n",
      "True\n",
      ">>> inside(-1,-1,0,0,2,3)\n",
      "False\n",
      "b. Testing if point (1,1) lies in both rectangles:\n",
      "Rectangle 1 (0.3, 0.5, 1.1, 0.7): False\n",
      "Rectangle 2 (0.5, 0.2, 1.1, 2): True\n",
      "Point (1,1) lies in both rectangles: False\n"
     ]
    }
   ],
   "source": [
    "# Define the function 'inside'\n",
    "def inside(x, y, x1, y1, x2, y2):\n",
    "    return x1 <= x <= x2 and y1 <= y <= y2\n",
    "\n",
    "# a: Testing the inside function with given points\n",
    "result_a1 = inside(1, 1, 0, 0, 2, 3)\n",
    "result_a2 = inside(-1, -1, 0, 0, 2, 3)\n",
    "print(\"a. Testing 'inside' function:\")\n",
    "print(\">>> inside(1,1,0,0,2,3)\")\n",
    "print(result_a1) \n",
    "print(\">>> inside(-1,-1,0,0,2,3)\")\n",
    "print(result_a2)\n",
    "\n",
    "# b: Using the function inside to test if point (1,1) lies within both specified rectangles\n",
    "rect_test_1 = inside(1, 1, 0.3, 0.5, 1.1, 0.7)\n",
    "rect_test_2 = inside(1, 1, 0.5, 0.2, 1.1, 2)\n",
    "point_in_both_rectangles = rect_test_1 and rect_test_2\n",
    "print(\"b. Testing if point (1,1) lies in both rectangles:\")\n",
    "print(\"Rectangle 1 (0.3, 0.5, 1.1, 0.7):\", rect_test_1)  \n",
    "print(\"Rectangle 2 (0.5, 0.2, 1.1, 2):\", rect_test_2)  \n",
    "print(\"Point (1,1) lies in both rectangles:\", point_in_both_rectangles) \n"
   ]
  },
  {
   "cell_type": "markdown",
   "id": "2cb2c4da",
   "metadata": {},
   "source": [
    "# Question6"
   ]
  },
  {
   "cell_type": "code",
   "execution_count": 18,
   "id": "779b1d9e",
   "metadata": {},
   "outputs": [
    {
     "name": "stdout",
     "output_type": "stream",
     "text": [
      "appyhay\n",
      "enterway\n"
     ]
    }
   ],
   "source": [
    "def pig(word):\n",
    "    # Convert the word to lowercase for consistent processing\n",
    "    word = word.lower()\n",
    "    # Define vowels as a string for efficient membership checking\n",
    "    vowels = 'a, e, i, o, u'\n",
    "\n",
    "    # Check if the first letter is a vowel and construct the pig-Latin form accordingly\n",
    "    # Use a ternary operator for a more concise expression\n",
    "    return word + 'way' if word[0] in vowels else word[1:] + word[0] + 'ay'\n",
    "\n",
    "# Test the function with examples\n",
    "print(pig('happy'))  \n",
    "print(pig('Enter')) \n"
   ]
  },
  {
   "cell_type": "markdown",
   "id": "d797cb6c",
   "metadata": {},
   "source": [
    "# Question7"
   ]
  },
  {
   "cell_type": "code",
   "execution_count": 26,
   "id": "5b052d5b",
   "metadata": {},
   "outputs": [
    {
     "name": "stdout",
     "output_type": "stream",
     "text": [
      "There are 15 patients of blood type A.\n",
      "There is one patient of blood type B.\n",
      "There are 13 patients of blood type AB.\n",
      "There are 15 patients of blood type O.\n",
      "There are no patients of blood type OO.\n"
     ]
    }
   ],
   "source": [
    "def bldcount(file):\n",
    "    # Create a dictionary to store each blood type counts\n",
    "    blood_type_count = {'A': 0, 'B': 0, 'AB': 0, 'O': 0, 'OO': 0}\n",
    "    \n",
    "    # Open the file and read content\n",
    "    with open(file, 'r') as file:\n",
    "        # Count each blood type\n",
    "        for blood_type in file.read().split():\n",
    "            if blood_type in blood_type_count:\n",
    "                blood_type_count[blood_type] += 1\n",
    "    \n",
    "    # Print the counts for each blood type\n",
    "    for blood_type, count in blood_type_count.items():\n",
    "        if count == 0:\n",
    "            print(f'There are no patients of blood type {blood_type}.')\n",
    "        elif count == 1:\n",
    "            print(f'There is one patient of blood type {blood_type}.')\n",
    "        else:\n",
    "            print(f'There are {count} patients of blood type {blood_type}.')\n",
    "\n",
    "#use\n",
    "bldcount('bloodtype1.txt')\n"
   ]
  },
  {
   "cell_type": "markdown",
   "id": "e2ac54f5",
   "metadata": {},
   "source": [
    "# Question8"
   ]
  },
  {
   "cell_type": "code",
   "execution_count": 35,
   "id": "93311c7e",
   "metadata": {
    "scrolled": true
   },
   "outputs": [
    {
     "name": "stdout",
     "output_type": "stream",
     "text": [
      "Enter currency code: DKK\n",
      "Enter amount to convert: 100\n",
      "100.0 DKK is equivalent to 16.514419999999998 USD\n"
     ]
    }
   ],
   "source": [
    "def curconv(currency, amount):\n",
    "    # Create a dictionary to store currency exchange rates\n",
    "    currency_rates = {\n",
    "        'AUD': 1.0345157,\n",
    "        'CHF': 1.0237414,\n",
    "        'CNY': 0.1550176,\n",
    "        'DKK': 0.1651442,\n",
    "        'EUR': 1.2296544,\n",
    "        'GBP': 1.5550989,\n",
    "        'HKD': 0.1270207,\n",
    "        'INR': 0.0177643,\n",
    "        'JPY': 0.01241401,\n",
    "        'MXN': 0.0751848,\n",
    "        'MYR': 0.3145411,\n",
    "        'NOK': 0.1677063,\n",
    "        'NZD': 0.8003591,\n",
    "        'PHP': 0.0233234,\n",
    "        'SEK': 0.148269,\n",
    "        'SGD': 0.788871,\n",
    "        'THB': 0.0313789\n",
    "    }\n",
    "\n",
    "    if currency in currency_rates:\n",
    "        # Convert the amount to US dollars\n",
    "        usd_amount = amount * currency_rates[currency]\n",
    "        return usd_amount\n",
    "    else:\n",
    "        return \"Your Currency not found in the exchange rates.\"\n",
    "\n",
    "# Input currency code and amount\n",
    "currency_code = input(\"Enter currency code: \")\n",
    "amount = float(input(\"Enter amount to convert: \"))\n",
    "\n",
    "# Calculate and display the converted amount\n",
    "converted_amount = curconv(currency_code, amount)\n",
    "print(f\"{amount} {currency_code} is equivalent to {converted_amount} USD\")\n"
   ]
  },
  {
   "cell_type": "markdown",
   "id": "05660e7a",
   "metadata": {},
   "source": [
    "# Question9"
   ]
  },
  {
   "cell_type": "code",
   "execution_count": 42,
   "id": "386844e4",
   "metadata": {},
   "outputs": [
    {
     "ename": "SyntaxError",
     "evalue": "invalid syntax (3665427533.py, line 2)",
     "output_type": "error",
     "traceback": [
      "\u001b[0;36m  Cell \u001b[0;32mIn[42], line 2\u001b[0;36m\u001b[0m\n\u001b[0;31m    adding 6 + 'a' #TypeError\u001b[0m\n\u001b[0m           ^\u001b[0m\n\u001b[0;31mSyntaxError\u001b[0m\u001b[0;31m:\u001b[0m invalid syntax\n"
     ]
    }
   ],
   "source": [
    "#Trying to add incompatible variables, as in\n",
    "adding 6 + 'a' #TypeError\n",
    "\n",
    "#Referring to the 12th item of a list that has only 10 items\n",
    "my_list = [1, 2, 3, 4, 5, 6, 7, 8, 9, 10]\n",
    "item = my_list[11] #IndexError\n",
    "\n",
    "#Using a value that is out of range for a function’s input, such as calling math.sqrt(-1.0)\n",
    "import math\n",
    "result = math.sqrt(-1.0) #ValueError\n",
    "\n",
    "#Using an undeclared variable, such as print(x)when x has not been defined\n",
    "result = print(x) #NameError\n",
    "\n",
    "#Trying to open a file that does not exist, such asmistyping the file name or looking in the wrong directory.\n",
    "file = open('non_existent_file.txt', 'r') #FileNotFoundError\n",
    "\n",
    "\n",
    "\n"
   ]
  },
  {
   "cell_type": "markdown",
   "id": "5378941b",
   "metadata": {},
   "source": [
    "# Question10"
   ]
  },
  {
   "cell_type": "code",
   "execution_count": 38,
   "id": "5e460f68",
   "metadata": {},
   "outputs": [
    {
     "name": "stdout",
     "output_type": "stream",
     "text": [
      "[1, 1, 1, 3, 5, 1, 1, 2, 1, 0, 1, 0, 1, 2, 4, 0, 1, 2, 0, 3, 1, 0, 1, 1, 0, 0]\n",
      "[1, 0, 0, 0, 1, 0, 0, 0, 0, 0, 0, 1, 0, 0, 0, 2, 0, 0, 0, 0, 0, 0, 0, 0, 0, 0]\n"
     ]
    }
   ],
   "source": [
    "def frequencies(text):\n",
    "    # alphabet definition\n",
    "    letters = 'abcdefghijklmnopqrstuvwxyz'\n",
    "    \n",
    "    letter_counts = [0] * 26\n",
    "    \n",
    "    # Convert to lowercase \n",
    "    text = text.lower()\n",
    "    \n",
    "    # Iterate through each character in the text\n",
    "    for char in text:\n",
    "        if char in letters:\n",
    "            # If the character is a letter, increment the corresponding letter count\n",
    "            letter_index = letters.index(char)\n",
    "            letter_counts[letter_index] += 1\n",
    "    \n",
    "    return letter_counts\n",
    "\n",
    "# use\n",
    "result = frequencies('The quick red fox got bored and went home.')\n",
    "print(result)\n",
    "\n",
    "result = frequencies('apple')\n",
    "print(result)\n"
   ]
  },
  {
   "cell_type": "code",
   "execution_count": null,
   "id": "cb0b6279",
   "metadata": {},
   "outputs": [],
   "source": []
  }
 ],
 "metadata": {
  "kernelspec": {
   "display_name": "Python 3 (ipykernel)",
   "language": "python",
   "name": "python3"
  },
  "language_info": {
   "codemirror_mode": {
    "name": "ipython",
    "version": 3
   },
   "file_extension": ".py",
   "mimetype": "text/x-python",
   "name": "python",
   "nbconvert_exporter": "python",
   "pygments_lexer": "ipython3",
   "version": "3.10.9"
  }
 },
 "nbformat": 4,
 "nbformat_minor": 5
}
